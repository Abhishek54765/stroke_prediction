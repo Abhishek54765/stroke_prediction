{
  "nbformat": 4,
  "nbformat_minor": 0,
  "metadata": {
    "colab": {
      "name": "stroke_prediction.ipynb",
      "provenance": [],
      "collapsed_sections": [],
      "mount_file_id": "1LXL5gph--i20gTS12Z6VwK3b0egTbYly",
      "authorship_tag": "ABX9TyPFY3Yztaf2JAxENgGEu3K9",
      "include_colab_link": true
    },
    "kernelspec": {
      "name": "python3",
      "display_name": "Python 3"
    },
    "language_info": {
      "name": "python"
    }
  },
  "cells": [
    {
      "cell_type": "markdown",
      "metadata": {
        "id": "view-in-github",
        "colab_type": "text"
      },
      "source": [
        "<a href=\"https://colab.research.google.com/github/Abhishek54765/stroke_prediction/blob/main/stroke_prediction.ipynb\" target=\"_parent\"><img src=\"https://colab.research.google.com/assets/colab-badge.svg\" alt=\"Open In Colab\"/></a>"
      ]
    },
    {
      "cell_type": "markdown",
      "metadata": {
        "id": "tN_cAoQgjUQd"
      },
      "source": [
        "# Below 8 line of code are for to download dataset directly to the google drive and to unzip it. This step saves a lot of time for those using google collab on a regular basis."
      ]
    },
    {
      "cell_type": "code",
      "metadata": {
        "id": "imsxAAYGgZjL"
      },
      "source": [
        "# import json\n",
        "# import os"
      ],
      "execution_count": null,
      "outputs": []
    },
    {
      "cell_type": "code",
      "metadata": {
        "id": "uyUHLiWWgq_o"
      },
      "source": [
        "# file = open('/content/drive/MyDrive/datasets/cotton_disease/Cotton Disease/train/kaggle.json')\n",
        "# f = json.load(file)"
      ],
      "execution_count": null,
      "outputs": []
    },
    {
      "cell_type": "code",
      "metadata": {
        "id": "RTy7HOtPhfMb"
      },
      "source": [
        "# f"
      ],
      "execution_count": null,
      "outputs": []
    },
    {
      "cell_type": "code",
      "metadata": {
        "id": "GggZw5SGhgrp"
      },
      "source": [
        "# os.environ['KAGGLE_CONFIG_DIR'] = '/content/drive/My Drive/kaggle'"
      ],
      "execution_count": null,
      "outputs": []
    },
    {
      "cell_type": "code",
      "metadata": {
        "id": "YPontvcphyHJ"
      },
      "source": [
        "# %cd /content/drive/My Drive/kaggle"
      ],
      "execution_count": null,
      "outputs": []
    },
    {
      "cell_type": "code",
      "metadata": {
        "id": "Tmsnaw9Dh1Za"
      },
      "source": [
        "# os.environ['KAGGLE_USERNAME'] = \"abhishekkumarsaini\" # username from the json file\n",
        "# os.environ['KAGGLE_KEY'] = \"ed58dc4d33dd5ed05e33cf59aa9266ee\" # key from the json file"
      ],
      "execution_count": null,
      "outputs": []
    },
    {
      "cell_type": "code",
      "metadata": {
        "id": "qKyxj_A9h4Xh"
      },
      "source": [
        "# !kaggle datasets download -d fedesoriano/stroke-prediction-dataset"
      ],
      "execution_count": null,
      "outputs": []
    },
    {
      "cell_type": "code",
      "metadata": {
        "id": "LqHZYok8h-P2"
      },
      "source": [
        "# !unzip \\*.zip && rm *.zip "
      ],
      "execution_count": null,
      "outputs": []
    },
    {
      "cell_type": "markdown",
      "metadata": {
        "id": "azFT7UITPZDJ"
      },
      "source": [
        "# Importing some important libraries, loading the dataset and gaining some basic insights about the data. "
      ]
    },
    {
      "cell_type": "code",
      "metadata": {
        "id": "SQoXXbbQiDyv"
      },
      "source": [
        "import pandas as pd\n",
        "import numpy as np\n",
        "import matplotlib.pyplot as plt\n",
        "import seaborn as sns"
      ],
      "execution_count": null,
      "outputs": []
    },
    {
      "cell_type": "code",
      "metadata": {
        "id": "XFwsF0_EiUbR"
      },
      "source": [
        "data = pd.read_csv('/content/drive/MyDrive/kaggle/healthcare-dataset-stroke-data.csv')"
      ],
      "execution_count": null,
      "outputs": []
    },
    {
      "cell_type": "code",
      "metadata": {
        "colab": {
          "base_uri": "https://localhost:8080/",
          "height": 204
        },
        "id": "z6o3Ah_IibH5",
        "outputId": "65b22686-ad1e-4bda-9d40-18394de9f3e6"
      },
      "source": [
        "data.head()"
      ],
      "execution_count": null,
      "outputs": [
        {
          "output_type": "execute_result",
          "data": {
            "text/html": [
              "<div>\n",
              "<style scoped>\n",
              "    .dataframe tbody tr th:only-of-type {\n",
              "        vertical-align: middle;\n",
              "    }\n",
              "\n",
              "    .dataframe tbody tr th {\n",
              "        vertical-align: top;\n",
              "    }\n",
              "\n",
              "    .dataframe thead th {\n",
              "        text-align: right;\n",
              "    }\n",
              "</style>\n",
              "<table border=\"1\" class=\"dataframe\">\n",
              "  <thead>\n",
              "    <tr style=\"text-align: right;\">\n",
              "      <th></th>\n",
              "      <th>id</th>\n",
              "      <th>gender</th>\n",
              "      <th>age</th>\n",
              "      <th>hypertension</th>\n",
              "      <th>heart_disease</th>\n",
              "      <th>ever_married</th>\n",
              "      <th>work_type</th>\n",
              "      <th>Residence_type</th>\n",
              "      <th>avg_glucose_level</th>\n",
              "      <th>bmi</th>\n",
              "      <th>smoking_status</th>\n",
              "      <th>stroke</th>\n",
              "    </tr>\n",
              "  </thead>\n",
              "  <tbody>\n",
              "    <tr>\n",
              "      <th>0</th>\n",
              "      <td>9046</td>\n",
              "      <td>Male</td>\n",
              "      <td>67.0</td>\n",
              "      <td>0</td>\n",
              "      <td>1</td>\n",
              "      <td>Yes</td>\n",
              "      <td>Private</td>\n",
              "      <td>Urban</td>\n",
              "      <td>228.69</td>\n",
              "      <td>36.6</td>\n",
              "      <td>formerly smoked</td>\n",
              "      <td>1</td>\n",
              "    </tr>\n",
              "    <tr>\n",
              "      <th>1</th>\n",
              "      <td>51676</td>\n",
              "      <td>Female</td>\n",
              "      <td>61.0</td>\n",
              "      <td>0</td>\n",
              "      <td>0</td>\n",
              "      <td>Yes</td>\n",
              "      <td>Self-employed</td>\n",
              "      <td>Rural</td>\n",
              "      <td>202.21</td>\n",
              "      <td>NaN</td>\n",
              "      <td>never smoked</td>\n",
              "      <td>1</td>\n",
              "    </tr>\n",
              "    <tr>\n",
              "      <th>2</th>\n",
              "      <td>31112</td>\n",
              "      <td>Male</td>\n",
              "      <td>80.0</td>\n",
              "      <td>0</td>\n",
              "      <td>1</td>\n",
              "      <td>Yes</td>\n",
              "      <td>Private</td>\n",
              "      <td>Rural</td>\n",
              "      <td>105.92</td>\n",
              "      <td>32.5</td>\n",
              "      <td>never smoked</td>\n",
              "      <td>1</td>\n",
              "    </tr>\n",
              "    <tr>\n",
              "      <th>3</th>\n",
              "      <td>60182</td>\n",
              "      <td>Female</td>\n",
              "      <td>49.0</td>\n",
              "      <td>0</td>\n",
              "      <td>0</td>\n",
              "      <td>Yes</td>\n",
              "      <td>Private</td>\n",
              "      <td>Urban</td>\n",
              "      <td>171.23</td>\n",
              "      <td>34.4</td>\n",
              "      <td>smokes</td>\n",
              "      <td>1</td>\n",
              "    </tr>\n",
              "    <tr>\n",
              "      <th>4</th>\n",
              "      <td>1665</td>\n",
              "      <td>Female</td>\n",
              "      <td>79.0</td>\n",
              "      <td>1</td>\n",
              "      <td>0</td>\n",
              "      <td>Yes</td>\n",
              "      <td>Self-employed</td>\n",
              "      <td>Rural</td>\n",
              "      <td>174.12</td>\n",
              "      <td>24.0</td>\n",
              "      <td>never smoked</td>\n",
              "      <td>1</td>\n",
              "    </tr>\n",
              "  </tbody>\n",
              "</table>\n",
              "</div>"
            ],
            "text/plain": [
              "      id  gender   age  ...   bmi   smoking_status stroke\n",
              "0   9046    Male  67.0  ...  36.6  formerly smoked      1\n",
              "1  51676  Female  61.0  ...   NaN     never smoked      1\n",
              "2  31112    Male  80.0  ...  32.5     never smoked      1\n",
              "3  60182  Female  49.0  ...  34.4           smokes      1\n",
              "4   1665  Female  79.0  ...  24.0     never smoked      1\n",
              "\n",
              "[5 rows x 12 columns]"
            ]
          },
          "metadata": {
            "tags": []
          },
          "execution_count": 3
        }
      ]
    },
    {
      "cell_type": "code",
      "metadata": {
        "id": "XjFxmH-YjijF"
      },
      "source": [
        "data = data.drop('id', axis=1)"
      ],
      "execution_count": null,
      "outputs": []
    },
    {
      "cell_type": "code",
      "metadata": {
        "colab": {
          "base_uri": "https://localhost:8080/"
        },
        "id": "cmuy3jEEihGq",
        "outputId": "792ac619-52f0-489e-e01d-6d7cfbe1ed4a"
      },
      "source": [
        "data.info()"
      ],
      "execution_count": null,
      "outputs": [
        {
          "output_type": "stream",
          "text": [
            "<class 'pandas.core.frame.DataFrame'>\n",
            "RangeIndex: 5110 entries, 0 to 5109\n",
            "Data columns (total 11 columns):\n",
            " #   Column             Non-Null Count  Dtype  \n",
            "---  ------             --------------  -----  \n",
            " 0   gender             5110 non-null   object \n",
            " 1   age                5110 non-null   float64\n",
            " 2   hypertension       5110 non-null   int64  \n",
            " 3   heart_disease      5110 non-null   int64  \n",
            " 4   ever_married       5110 non-null   object \n",
            " 5   work_type          5110 non-null   object \n",
            " 6   Residence_type     5110 non-null   object \n",
            " 7   avg_glucose_level  5110 non-null   float64\n",
            " 8   bmi                4909 non-null   float64\n",
            " 9   smoking_status     5110 non-null   object \n",
            " 10  stroke             5110 non-null   int64  \n",
            "dtypes: float64(3), int64(3), object(5)\n",
            "memory usage: 439.3+ KB\n"
          ],
          "name": "stdout"
        }
      ]
    },
    {
      "cell_type": "code",
      "metadata": {
        "colab": {
          "base_uri": "https://localhost:8080/",
          "height": 297
        },
        "id": "IWokUHDAioUL",
        "outputId": "1a1b2ba8-cdca-4b52-a5f3-a5a1b19fdc57"
      },
      "source": [
        "data.describe()"
      ],
      "execution_count": null,
      "outputs": [
        {
          "output_type": "execute_result",
          "data": {
            "text/html": [
              "<div>\n",
              "<style scoped>\n",
              "    .dataframe tbody tr th:only-of-type {\n",
              "        vertical-align: middle;\n",
              "    }\n",
              "\n",
              "    .dataframe tbody tr th {\n",
              "        vertical-align: top;\n",
              "    }\n",
              "\n",
              "    .dataframe thead th {\n",
              "        text-align: right;\n",
              "    }\n",
              "</style>\n",
              "<table border=\"1\" class=\"dataframe\">\n",
              "  <thead>\n",
              "    <tr style=\"text-align: right;\">\n",
              "      <th></th>\n",
              "      <th>age</th>\n",
              "      <th>hypertension</th>\n",
              "      <th>heart_disease</th>\n",
              "      <th>avg_glucose_level</th>\n",
              "      <th>bmi</th>\n",
              "      <th>stroke</th>\n",
              "    </tr>\n",
              "  </thead>\n",
              "  <tbody>\n",
              "    <tr>\n",
              "      <th>count</th>\n",
              "      <td>5110.000000</td>\n",
              "      <td>5110.000000</td>\n",
              "      <td>5110.000000</td>\n",
              "      <td>5110.000000</td>\n",
              "      <td>4909.000000</td>\n",
              "      <td>5110.000000</td>\n",
              "    </tr>\n",
              "    <tr>\n",
              "      <th>mean</th>\n",
              "      <td>43.226614</td>\n",
              "      <td>0.097456</td>\n",
              "      <td>0.054012</td>\n",
              "      <td>106.147677</td>\n",
              "      <td>28.893237</td>\n",
              "      <td>0.048728</td>\n",
              "    </tr>\n",
              "    <tr>\n",
              "      <th>std</th>\n",
              "      <td>22.612647</td>\n",
              "      <td>0.296607</td>\n",
              "      <td>0.226063</td>\n",
              "      <td>45.283560</td>\n",
              "      <td>7.854067</td>\n",
              "      <td>0.215320</td>\n",
              "    </tr>\n",
              "    <tr>\n",
              "      <th>min</th>\n",
              "      <td>0.080000</td>\n",
              "      <td>0.000000</td>\n",
              "      <td>0.000000</td>\n",
              "      <td>55.120000</td>\n",
              "      <td>10.300000</td>\n",
              "      <td>0.000000</td>\n",
              "    </tr>\n",
              "    <tr>\n",
              "      <th>25%</th>\n",
              "      <td>25.000000</td>\n",
              "      <td>0.000000</td>\n",
              "      <td>0.000000</td>\n",
              "      <td>77.245000</td>\n",
              "      <td>23.500000</td>\n",
              "      <td>0.000000</td>\n",
              "    </tr>\n",
              "    <tr>\n",
              "      <th>50%</th>\n",
              "      <td>45.000000</td>\n",
              "      <td>0.000000</td>\n",
              "      <td>0.000000</td>\n",
              "      <td>91.885000</td>\n",
              "      <td>28.100000</td>\n",
              "      <td>0.000000</td>\n",
              "    </tr>\n",
              "    <tr>\n",
              "      <th>75%</th>\n",
              "      <td>61.000000</td>\n",
              "      <td>0.000000</td>\n",
              "      <td>0.000000</td>\n",
              "      <td>114.090000</td>\n",
              "      <td>33.100000</td>\n",
              "      <td>0.000000</td>\n",
              "    </tr>\n",
              "    <tr>\n",
              "      <th>max</th>\n",
              "      <td>82.000000</td>\n",
              "      <td>1.000000</td>\n",
              "      <td>1.000000</td>\n",
              "      <td>271.740000</td>\n",
              "      <td>97.600000</td>\n",
              "      <td>1.000000</td>\n",
              "    </tr>\n",
              "  </tbody>\n",
              "</table>\n",
              "</div>"
            ],
            "text/plain": [
              "               age  hypertension  ...          bmi       stroke\n",
              "count  5110.000000   5110.000000  ...  4909.000000  5110.000000\n",
              "mean     43.226614      0.097456  ...    28.893237     0.048728\n",
              "std      22.612647      0.296607  ...     7.854067     0.215320\n",
              "min       0.080000      0.000000  ...    10.300000     0.000000\n",
              "25%      25.000000      0.000000  ...    23.500000     0.000000\n",
              "50%      45.000000      0.000000  ...    28.100000     0.000000\n",
              "75%      61.000000      0.000000  ...    33.100000     0.000000\n",
              "max      82.000000      1.000000  ...    97.600000     1.000000\n",
              "\n",
              "[8 rows x 6 columns]"
            ]
          },
          "metadata": {
            "tags": []
          },
          "execution_count": 6
        }
      ]
    },
    {
      "cell_type": "code",
      "metadata": {
        "id": "u4M9KTE4i0Tk"
      },
      "source": [
        "columns = ['gender', 'age', 'hypertension', 'heart_disease', 'ever_married',\n",
        "       'work_type', 'Residence_type', 'avg_glucose_level', 'bmi',\n",
        "       'smoking_status', 'stroke']"
      ],
      "execution_count": null,
      "outputs": []
    },
    {
      "cell_type": "markdown",
      "metadata": {
        "id": "oJZGkokRk5xR"
      },
      "source": [
        "Seperating the categorical features from the other features and finding out the count of categories."
      ]
    },
    {
      "cell_type": "code",
      "metadata": {
        "colab": {
          "base_uri": "https://localhost:8080/"
        },
        "id": "4Hhg3JhpkPS1",
        "outputId": "5189e1bd-cb38-4859-f559-f16b8e95d700"
      },
      "source": [
        "for c in columns:\n",
        "  if data[c].dtype == 'object':\n",
        "    print(data[c].value_counts())\n",
        "    print(\" \")"
      ],
      "execution_count": null,
      "outputs": [
        {
          "output_type": "stream",
          "text": [
            "Female    2994\n",
            "Male      2115\n",
            "Other        1\n",
            "Name: gender, dtype: int64\n",
            " \n",
            "Yes    3353\n",
            "No     1757\n",
            "Name: ever_married, dtype: int64\n",
            " \n",
            "Private          2925\n",
            "Self-employed     819\n",
            "children          687\n",
            "Govt_job          657\n",
            "Never_worked       22\n",
            "Name: work_type, dtype: int64\n",
            " \n",
            "Urban    2596\n",
            "Rural    2514\n",
            "Name: Residence_type, dtype: int64\n",
            " \n",
            "never smoked       1892\n",
            "Unknown            1544\n",
            "formerly smoked     885\n",
            "smokes              789\n",
            "Name: smoking_status, dtype: int64\n",
            " \n"
          ],
          "name": "stdout"
        }
      ]
    },
    {
      "cell_type": "code",
      "metadata": {
        "colab": {
          "base_uri": "https://localhost:8080/",
          "height": 80
        },
        "id": "zVBRMjX3kSKw",
        "outputId": "b69765ea-ec25-42c8-edc0-f369c3942ee8"
      },
      "source": [
        "data[data.bmi == 97.600]"
      ],
      "execution_count": null,
      "outputs": [
        {
          "output_type": "execute_result",
          "data": {
            "text/html": [
              "<div>\n",
              "<style scoped>\n",
              "    .dataframe tbody tr th:only-of-type {\n",
              "        vertical-align: middle;\n",
              "    }\n",
              "\n",
              "    .dataframe tbody tr th {\n",
              "        vertical-align: top;\n",
              "    }\n",
              "\n",
              "    .dataframe thead th {\n",
              "        text-align: right;\n",
              "    }\n",
              "</style>\n",
              "<table border=\"1\" class=\"dataframe\">\n",
              "  <thead>\n",
              "    <tr style=\"text-align: right;\">\n",
              "      <th></th>\n",
              "      <th>gender</th>\n",
              "      <th>age</th>\n",
              "      <th>hypertension</th>\n",
              "      <th>heart_disease</th>\n",
              "      <th>ever_married</th>\n",
              "      <th>work_type</th>\n",
              "      <th>Residence_type</th>\n",
              "      <th>avg_glucose_level</th>\n",
              "      <th>bmi</th>\n",
              "      <th>smoking_status</th>\n",
              "      <th>stroke</th>\n",
              "    </tr>\n",
              "  </thead>\n",
              "  <tbody>\n",
              "    <tr>\n",
              "      <th>2128</th>\n",
              "      <td>Male</td>\n",
              "      <td>17.0</td>\n",
              "      <td>1</td>\n",
              "      <td>0</td>\n",
              "      <td>No</td>\n",
              "      <td>Private</td>\n",
              "      <td>Rural</td>\n",
              "      <td>61.67</td>\n",
              "      <td>97.6</td>\n",
              "      <td>Unknown</td>\n",
              "      <td>0</td>\n",
              "    </tr>\n",
              "  </tbody>\n",
              "</table>\n",
              "</div>"
            ],
            "text/plain": [
              "     gender   age  hypertension  ...   bmi smoking_status stroke\n",
              "2128   Male  17.0             1  ...  97.6        Unknown      0\n",
              "\n",
              "[1 rows x 11 columns]"
            ]
          },
          "metadata": {
            "tags": []
          },
          "execution_count": 9
        }
      ]
    },
    {
      "cell_type": "code",
      "metadata": {
        "id": "vH3BJQZir-xv"
      },
      "source": [
        "data = data.dropna(axis=0)"
      ],
      "execution_count": null,
      "outputs": []
    },
    {
      "cell_type": "code",
      "metadata": {
        "colab": {
          "base_uri": "https://localhost:8080/"
        },
        "id": "lZYkUEl8sU0h",
        "outputId": "ac17c2eb-bf2c-437f-ec5f-e81bd43865e9"
      },
      "source": [
        "data.info()"
      ],
      "execution_count": null,
      "outputs": [
        {
          "output_type": "stream",
          "text": [
            "<class 'pandas.core.frame.DataFrame'>\n",
            "Int64Index: 4909 entries, 0 to 5109\n",
            "Data columns (total 11 columns):\n",
            " #   Column             Non-Null Count  Dtype  \n",
            "---  ------             --------------  -----  \n",
            " 0   gender             4909 non-null   object \n",
            " 1   age                4909 non-null   float64\n",
            " 2   hypertension       4909 non-null   int64  \n",
            " 3   heart_disease      4909 non-null   int64  \n",
            " 4   ever_married       4909 non-null   object \n",
            " 5   work_type          4909 non-null   object \n",
            " 6   Residence_type     4909 non-null   object \n",
            " 7   avg_glucose_level  4909 non-null   float64\n",
            " 8   bmi                4909 non-null   float64\n",
            " 9   smoking_status     4909 non-null   object \n",
            " 10  stroke             4909 non-null   int64  \n",
            "dtypes: float64(3), int64(3), object(5)\n",
            "memory usage: 460.2+ KB\n"
          ],
          "name": "stdout"
        }
      ]
    },
    {
      "cell_type": "markdown",
      "metadata": {
        "id": "ULUycoptTytm"
      },
      "source": [
        " Droping only one value that is gender[other] which have only one value."
      ]
    },
    {
      "cell_type": "code",
      "metadata": {
        "id": "lL7Z4QVtSk-3"
      },
      "source": [
        "data.drop(data[data.gender == 'Other'].index, inplace = True)"
      ],
      "execution_count": null,
      "outputs": []
    },
    {
      "cell_type": "markdown",
      "metadata": {
        "id": "2wGy37H65Rzx"
      },
      "source": [
        "# **Exploratory data analysis uisng seaborn library.**"
      ]
    },
    {
      "cell_type": "markdown",
      "metadata": {
        "id": "rWSrIM3bm1pO"
      },
      "source": [
        "This shows that our dataset is very unbalanced. We should keep this in mind while building our model and selecting the performance matrics. We can do undersampling or oversampling for the unbalanced dataset."
      ]
    },
    {
      "cell_type": "code",
      "metadata": {
        "colab": {
          "base_uri": "https://localhost:8080/",
          "height": 374
        },
        "id": "7Sg0MOlrkGY2",
        "outputId": "feff2180-a6e3-43f1-c17b-ad9b260b398f"
      },
      "source": [
        "data['stroke'].value_counts().plot(kind = 'pie', autopct=\"%.2f\", figsize=(6,6))"
      ],
      "execution_count": null,
      "outputs": [
        {
          "output_type": "execute_result",
          "data": {
            "text/plain": [
              "<matplotlib.axes._subplots.AxesSubplot at 0x7f09b3f6d4d0>"
            ]
          },
          "metadata": {
            "tags": []
          },
          "execution_count": 14
        },
        {
          "output_type": "display_data",
          "data": {
            "image/png": "[encoded data removed]",
            "text/plain": [
              "<Figure size 432x432 with 1 Axes>"
            ]
          },
          "metadata": {
            "tags": []
          }
        }
      ]
    },
    {
      "cell_type": "code",
      "metadata": {
        "colab": {
          "base_uri": "https://localhost:8080/",
          "height": 400
        },
        "id": "hx3xuVt9szEG",
        "outputId": "ad56324b-5721-4f40-863f-35639e5606cd"
      },
      "source": [
        "sns.catplot(x='stroke',y='age',data= data)"
      ],
      "execution_count": null,
      "outputs": [
        {
          "output_type": "execute_result",
          "data": {
            "text/plain": [
              "<seaborn.axisgrid.FacetGrid at 0x7ffafc7f2110>"
            ]
          },
          "metadata": {
            "tags": []
          },
          "execution_count": 22
        },
        {
          "output_type": "display_data",
          "data": {
            "image/png": "[encoded data removed]",
            "text/plain": [
              "<Figure size 360x360 with 1 Axes>"
            ]
          },
          "metadata": {
            "tags": [],
            "needs_background": "light"
          }
        }
      ]
    },
    {
      "cell_type": "markdown",
      "metadata": {
        "id": "hejnObMFnv0I"
      },
      "source": [
        "This shows that most of the people getting the stroke are from the age group of 60 to 80."
      ]
    },
    {
      "cell_type": "code",
      "metadata": {
        "colab": {
          "base_uri": "https://localhost:8080/",
          "height": 400
        },
        "id": "lz6-d57P81_h",
        "outputId": "84f14e52-57dd-448c-fec5-5133c778a74d"
      },
      "source": [
        "sns.catplot(x='stroke', y='age', kind= 'box', data=data)"
      ],
      "execution_count": null,
      "outputs": [
        {
          "output_type": "execute_result",
          "data": {
            "text/plain": [
              "<seaborn.axisgrid.FacetGrid at 0x7f09b2bb8e90>"
            ]
          },
          "metadata": {
            "tags": []
          },
          "execution_count": 15
        },
        {
          "output_type": "display_data",
          "data": {
            "image/png": "[encoded data removed]",
            "text/plain": [
              "<Figure size 360x360 with 1 Axes>"
            ]
          },
          "metadata": {
            "tags": [],
            "needs_background": "light"
          }
        }
      ]
    },
    {
      "cell_type": "code",
      "metadata": {
        "colab": {
          "base_uri": "https://localhost:8080/",
          "height": 400
        },
        "id": "7ZU3G2hA9Zyb",
        "outputId": "09fc5210-1749-40ad-9fec-f8cb5b37886b"
      },
      "source": [
        "sns.catplot(y=\"age\", x=\"stroke\", hue=\"gender\",\n",
        "            kind=\"violin\", data=data)"
      ],
      "execution_count": null,
      "outputs": [
        {
          "output_type": "execute_result",
          "data": {
            "text/plain": [
              "<seaborn.axisgrid.FacetGrid at 0x7f09b2712090>"
            ]
          },
          "metadata": {
            "tags": []
          },
          "execution_count": 16
        },
        {
          "output_type": "display_data",
          "data": {
            "image/png": "[encoded data removed]",
            "text/plain": [
              "<Figure size 432.125x360 with 1 Axes>"
            ]
          },
          "metadata": {
            "tags": [],
            "needs_background": "light"
          }
        }
      ]
    },
    {
      "cell_type": "code",
      "metadata": {
        "colab": {
          "base_uri": "https://localhost:8080/",
          "height": 401
        },
        "id": "0_b3SGEV-IcM",
        "outputId": "9387dc82-ff6f-4012-cda5-7d342d18ff5e"
      },
      "source": [
        "sns.catplot(x=\"Residence_type\", kind=\"count\", palette=\"ch:.25\", data=data, hue='stroke')"
      ],
      "execution_count": null,
      "outputs": [
        {
          "output_type": "execute_result",
          "data": {
            "text/plain": [
              "<seaborn.axisgrid.FacetGrid at 0x7f09a9e75450>"
            ]
          },
          "metadata": {
            "tags": []
          },
          "execution_count": 17
        },
        {
          "output_type": "display_data",
          "data": {
            "image/png": "[encoded data removed]",
            "text/plain": [
              "<Figure size 402.375x360 with 1 Axes>"
            ]
          },
          "metadata": {
            "tags": [],
            "needs_background": "light"
          }
        }
      ]
    },
    {
      "cell_type": "markdown",
      "metadata": {
        "id": "NhMzalW_o3ak"
      },
      "source": [
        "Conclusions:\n",
        "1. people living in urban are getting more stroke.\n",
        "2. people in private sector getting more strokes.\n"
      ]
    },
    {
      "cell_type": "code",
      "metadata": {
        "colab": {
          "base_uri": "https://localhost:8080/",
          "height": 1000
        },
        "id": "uqtGW5QpCBP3",
        "outputId": "5aa51822-dc30-41fc-8d9b-877cfacf91f4"
      },
      "source": [
        "for c in columns:\n",
        "  if data[c].dtype == 'object':\n",
        "    sns.catplot(x='stroke', kind='count',hue=c,data=data)"
      ],
      "execution_count": null,
      "outputs": [
        {
          "output_type": "display_data",
          "data": {
            "image/png": "[encoded data removed]",
            "text/plain": [
              "<Figure size 432.125x360 with 1 Axes>"
            ]
          },
          "metadata": {
            "tags": [],
            "needs_background": "light"
          }
        },
        {
          "output_type": "display_data",
          "data": {
            "image/png": "[encoded data removed]",
            "text/plain": [
              "<Figure size 434.5x360 with 1 Axes>"
            ]
          },
          "metadata": {
            "tags": [],
            "needs_background": "light"
          }
        },
        {
          "output_type": "display_data",
          "data": {
            "image/png": "[encoded data removed]",
            "text/plain": [
              "<Figure size 467.25x360 with 1 Axes>"
            ]
          },
          "metadata": {
            "tags": [],
            "needs_background": "light"
          }
        },
        {
          "output_type": "display_data",
          "data": {
            "image/png": "[encoded data removed]",
            "text/plain": [
              "<Figure size 446.25x360 with 1 Axes>"
            ]
          },
          "metadata": {
            "tags": [],
            "needs_background": "light"
          }
        },
        {
          "output_type": "display_data",
          "data": {
            "image/png": "[encoded data removed]",
            "text/plain": [
              "<Figure size 480.125x360 with 1 Axes>"
            ]
          },
          "metadata": {
            "tags": [],
            "needs_background": "light"
          }
        }
      ]
    },
    {
      "cell_type": "code",
      "metadata": {
        "colab": {
          "base_uri": "https://localhost:8080/"
        },
        "id": "hr2FeWFnFQU-",
        "outputId": "fc00c5b7-4af0-4b0c-fa76-8db4f2ac97a5"
      },
      "source": [
        "corr = data.corr()\n",
        "corr['stroke'].sort_values(ascending= False)"
      ],
      "execution_count": null,
      "outputs": [
        {
          "output_type": "execute_result",
          "data": {
            "text/plain": [
              "stroke               1.000000\n",
              "age                  0.232313\n",
              "hypertension         0.142503\n",
              "avg_glucose_level    0.138984\n",
              "heart_disease        0.137929\n",
              "bmi                  0.042341\n",
              "Name: stroke, dtype: float64"
            ]
          },
          "metadata": {
            "tags": []
          },
          "execution_count": 26
        }
      ]
    },
    {
      "cell_type": "markdown",
      "metadata": {
        "id": "ZHjPRtocrPBb"
      },
      "source": [
        "# Data preprocessing."
      ]
    },
    {
      "cell_type": "markdown",
      "metadata": {
        "id": "aX0R9I9tHjCc"
      },
      "source": [
        "Listing out all categorical columns."
      ]
    },
    {
      "cell_type": "code",
      "metadata": {
        "id": "NgYbNy1KGmPa"
      },
      "source": [
        "categorical_columns = []\n",
        "for c in columns:\n",
        "  if data[c].dtype == 'object':\n",
        "    categorical_columns.append(c)\n"
      ],
      "execution_count": null,
      "outputs": []
    },
    {
      "cell_type": "code",
      "metadata": {
        "colab": {
          "base_uri": "https://localhost:8080/"
        },
        "id": "prdQSGvuHfaR",
        "outputId": "cd0b57b1-a2ac-4f9d-c581-78870437c0cf"
      },
      "source": [
        "categorical_columns"
      ],
      "execution_count": null,
      "outputs": [
        {
          "output_type": "execute_result",
          "data": {
            "text/plain": [
              "['gender', 'ever_married', 'work_type', 'Residence_type', 'smoking_status']"
            ]
          },
          "metadata": {
            "tags": []
          },
          "execution_count": 28
        }
      ]
    },
    {
      "cell_type": "markdown",
      "metadata": {
        "id": "UI4b427EPOtZ"
      },
      "source": [
        "Train_Test split using stratified sampling. I used stratified sampling so that both train and test data gets same ratio of positive and negative class data.\n",
        "\n",
        "---\n",
        "\n"
      ]
    },
    {
      "cell_type": "code",
      "metadata": {
        "id": "CkONCPtGIVu3"
      },
      "source": [
        "from sklearn.model_selection import train_test_split"
      ],
      "execution_count": null,
      "outputs": []
    },
    {
      "cell_type": "code",
      "metadata": {
        "id": "d4garuqfIKx-"
      },
      "source": [
        "X_train , X_test, Y_train, Y_test = train_test_split(data, data['stroke'], test_size=.25, stratify=data['stroke'])"
      ],
      "execution_count": null,
      "outputs": []
    },
    {
      "cell_type": "code",
      "metadata": {
        "colab": {
          "base_uri": "https://localhost:8080/"
        },
        "id": "ovry90nvMkpA",
        "outputId": "6ba9888b-fb0c-42d5-c119-90141e42f0ad"
      },
      "source": [
        "X_train['stroke'].value_counts()"
      ],
      "execution_count": null,
      "outputs": [
        {
          "output_type": "execute_result",
          "data": {
            "text/plain": [
              "0    3524\n",
              "1     157\n",
              "Name: stroke, dtype: int64"
            ]
          },
          "metadata": {
            "tags": []
          },
          "execution_count": 31
        }
      ]
    },
    {
      "cell_type": "code",
      "metadata": {
        "colab": {
          "base_uri": "https://localhost:8080/"
        },
        "id": "mMA9EucGMtNw",
        "outputId": "22233ee1-3307-44fd-bb3d-09c29be549c1"
      },
      "source": [
        "X_test['stroke'].value_counts()"
      ],
      "execution_count": null,
      "outputs": [
        {
          "output_type": "execute_result",
          "data": {
            "text/plain": [
              "0    1175\n",
              "1      52\n",
              "Name: stroke, dtype: int64"
            ]
          },
          "metadata": {
            "tags": []
          },
          "execution_count": 32
        }
      ]
    },
    {
      "cell_type": "code",
      "metadata": {
        "id": "-93FhDGEM5Dn"
      },
      "source": [
        "X_train = X_train.drop('stroke', axis=1)"
      ],
      "execution_count": null,
      "outputs": []
    },
    {
      "cell_type": "code",
      "metadata": {
        "id": "K5SAMFP_akeK"
      },
      "source": [
        "X_test = X_test.drop('stroke', axis=1)"
      ],
      "execution_count": null,
      "outputs": []
    },
    {
      "cell_type": "code",
      "metadata": {
        "id": "ZGKXSqjEHg2Z"
      },
      "source": [
        "numerical_columns = []\n",
        "for c in X_train.columns:\n",
        "  if X_train[c].dtype in ['float64','int64']:\n",
        "    numerical_columns.append(c)"
      ],
      "execution_count": null,
      "outputs": []
    },
    {
      "cell_type": "code",
      "metadata": {
        "colab": {
          "base_uri": "https://localhost:8080/"
        },
        "id": "AzjJ4TrjN-d1",
        "outputId": "e1eddeb9-692b-401b-904a-3fc0a363cfd5"
      },
      "source": [
        "numerical_columns"
      ],
      "execution_count": null,
      "outputs": [
        {
          "output_type": "execute_result",
          "data": {
            "text/plain": [
              "['age', 'hypertension', 'heart_disease', 'avg_glucose_level', 'bmi']"
            ]
          },
          "metadata": {
            "tags": []
          },
          "execution_count": 36
        }
      ]
    },
    {
      "cell_type": "markdown",
      "metadata": {
        "id": "Iq08soEDsHYl"
      },
      "source": [
        "Creating a function that will convert all categorical features into the dummy variables. It is like one_hot encoding."
      ]
    },
    {
      "cell_type": "code",
      "metadata": {
        "id": "vAnWBf-IP4K9"
      },
      "source": [
        "def make_dummy(b, colm):\n",
        "  return pd.get_dummies(b, columns= colm)"
      ],
      "execution_count": null,
      "outputs": []
    },
    {
      "cell_type": "code",
      "metadata": {
        "id": "8JIp0bTIRX_r"
      },
      "source": [
        "X_train = make_dummy(X_train, categorical_columns)"
      ],
      "execution_count": null,
      "outputs": []
    },
    {
      "cell_type": "code",
      "metadata": {
        "colab": {
          "base_uri": "https://localhost:8080/"
        },
        "id": "wnRo1v_aqnIr",
        "outputId": "b9c552fd-e306-44ab-8ff8-c271a72f9ba4"
      },
      "source": [
        "X_train.shape"
      ],
      "execution_count": null,
      "outputs": [
        {
          "output_type": "execute_result",
          "data": {
            "text/plain": [
              "(3681, 20)"
            ]
          },
          "metadata": {
            "tags": []
          },
          "execution_count": 39
        }
      ]
    },
    {
      "cell_type": "code",
      "metadata": {
        "id": "ljpi7axbmwoh"
      },
      "source": [
        "X_test = make_dummy(X_test, categorical_columns)"
      ],
      "execution_count": null,
      "outputs": []
    },
    {
      "cell_type": "code",
      "metadata": {
        "colab": {
          "base_uri": "https://localhost:8080/"
        },
        "id": "PLwlYFL_QHX0",
        "outputId": "ad405f00-56d9-42b9-d0ee-f9f6ef75512f"
      },
      "source": [
        "X_test.shape"
      ],
      "execution_count": null,
      "outputs": [
        {
          "output_type": "execute_result",
          "data": {
            "text/plain": [
              "(1227, 20)"
            ]
          },
          "metadata": {
            "tags": []
          },
          "execution_count": 41
        }
      ]
    },
    {
      "cell_type": "markdown",
      "metadata": {
        "id": "jl2wHDpPuFuQ"
      },
      "source": [
        "Standardizing both test and train data so that model training becomes fast."
      ]
    },
    {
      "cell_type": "code",
      "metadata": {
        "id": "jGnXc_MGD_vp"
      },
      "source": [
        "from sklearn.preprocessing import StandardScaler\n",
        "scaller = StandardScaler() "
      ],
      "execution_count": null,
      "outputs": []
    },
    {
      "cell_type": "code",
      "metadata": {
        "id": "BLwLMIM9ECEu"
      },
      "source": [
        "X_train = scaller.fit_transform(X_train)\n",
        "X_test = scaller.transform(X_test)"
      ],
      "execution_count": null,
      "outputs": []
    },
    {
      "cell_type": "code",
      "metadata": {
        "id": "XkPucyfUmYpU"
      },
      "source": [
        "Y_true_train = Y_train==1\n",
        "Y_true_test = Y_test==1"
      ],
      "execution_count": null,
      "outputs": []
    },
    {
      "cell_type": "markdown",
      "metadata": {
        "id": "oYjILBDju9pr"
      },
      "source": [
        "Below what we are going to do is that training different classifier model and will compute recall value. I have selected the recall as the performance matrics because no person should me miss diagnosed as he/she will not  have stroke.\n",
        "# note \n",
        "first i will do this step before doing any type of sampling. "
      ]
    },
    {
      "cell_type": "code",
      "metadata": {
        "id": "jA4uWW0X9sAh"
      },
      "source": [
        "from sklearn.tree import DecisionTreeClassifier\n",
        "from sklearn.ensemble import RandomForestClassifier, AdaBoostClassifier\n",
        "from sklearn.neighbors import KNeighborsClassifier\n",
        "from sklearn.svm import SVC\n",
        "from sklearn.linear_model import LogisticRegression\n",
        "from sklearn.metrics import confusion_matrix\n",
        "from sklearn import metrics"
      ],
      "execution_count": null,
      "outputs": []
    },
    {
      "cell_type": "code",
      "metadata": {
        "id": "RFFqU4mB_imi"
      },
      "source": [
        "models = {'dt_clf':DecisionTreeClassifier(), 'for_clf':RandomForestClassifier(), 'k_clf':KNeighborsClassifier(), 'logistic_reg':LogisticRegression(), 'ada_boost': AdaBoostClassifier()}"
      ],
      "execution_count": null,
      "outputs": []
    },
    {
      "cell_type": "code",
      "metadata": {
        "colab": {
          "base_uri": "https://localhost:8080/"
        },
        "id": "UeRiqw9cAC9J",
        "outputId": "3695672f-59fe-4f14-8c12-4c2a2e046e87"
      },
      "source": [
        "results = []\n",
        "for key in models:\n",
        "  model_name = models[key]\n",
        "  model = model_name\n",
        "  model.fit(X_train, Y_train)\n",
        "  pred = model.predict(X_test)\n",
        "\n",
        "  # pred = model_name.predict(X_test)\n",
        "  print('')\n",
        "  print(key)\n",
        "  print(confusion_matrix(Y_true_test, pred),'recall=', metrics.recall_score(Y_true_test, pred))"
      ],
      "execution_count": null,
      "outputs": [
        {
          "output_type": "stream",
          "text": [
            "\n",
            "dt_clf\n",
            "[[1119   56]\n",
            " [  44    8]] recall= 0.15384615384615385\n",
            "\n",
            "for_clf\n",
            "[[1174    1]\n",
            " [  51    1]] recall= 0.019230769230769232\n",
            "\n",
            "k_clf\n",
            "[[1173    2]\n",
            " [  50    2]] recall= 0.038461538461538464\n",
            "\n",
            "logistic_reg\n",
            "[[1175    0]\n",
            " [  51    1]] recall= 0.019230769230769232\n",
            "\n",
            "ada_boost\n",
            "[[1175    0]\n",
            " [  52    0]] recall= 0.0\n"
          ],
          "name": "stdout"
        }
      ]
    },
    {
      "cell_type": "markdown",
      "metadata": {
        "id": "RsoQBSOHwfNc"
      },
      "source": [
        "Performing oversampling. I have selected oversampling because the amount of data available is very less."
      ]
    },
    {
      "cell_type": "code",
      "metadata": {
        "id": "rK_N6UtWd7-i",
        "colab": {
          "base_uri": "https://localhost:8080/"
        },
        "outputId": "bfe863e9-9e6a-41ce-f69f-62187287cb56"
      },
      "source": [
        "from imblearn.combine import SMOTETomek\n",
        "from imblearn.under_sampling import NearMiss"
      ],
      "execution_count": null,
      "outputs": [
        {
          "output_type": "stream",
          "text": [
            "/usr/local/lib/python3.7/dist-packages/sklearn/externals/six.py:31: FutureWarning: The module is deprecated in version 0.21 and will be removed in version 0.23 since we've dropped support for Python 2.7. Please rely on the official version of six (https://pypi.org/project/six/).\n",
            "  \"(https://pypi.org/project/six/).\", FutureWarning)\n",
            "/usr/local/lib/python3.7/dist-packages/sklearn/utils/deprecation.py:144: FutureWarning: The sklearn.neighbors.base module is  deprecated in version 0.22 and will be removed in version 0.24. The corresponding classes / functions should instead be imported from sklearn.neighbors. Anything that cannot be imported from sklearn.neighbors is now part of the private API.\n",
            "  warnings.warn(message, FutureWarning)\n"
          ],
          "name": "stderr"
        }
      ]
    },
    {
      "cell_type": "code",
      "metadata": {
        "colab": {
          "base_uri": "https://localhost:8080/"
        },
        "id": "5kCIPC2ClsQO",
        "outputId": "cc766e8a-2f48-43c9-b004-0627062aa731"
      },
      "source": [
        "smk = SMOTETomek(random_state=42)\n",
        "X_res,Y_res=smk.fit_sample(X_train,Y_train)"
      ],
      "execution_count": null,
      "outputs": [
        {
          "output_type": "stream",
          "text": [
            "/usr/local/lib/python3.7/dist-packages/sklearn/utils/deprecation.py:87: FutureWarning: Function safe_indexing is deprecated; safe_indexing is deprecated in version 0.22 and will be removed in version 0.24.\n",
            "  warnings.warn(msg, category=FutureWarning)\n",
            "/usr/local/lib/python3.7/dist-packages/sklearn/utils/deprecation.py:87: FutureWarning: Function safe_indexing is deprecated; safe_indexing is deprecated in version 0.22 and will be removed in version 0.24.\n",
            "  warnings.warn(msg, category=FutureWarning)\n"
          ],
          "name": "stderr"
        }
      ]
    },
    {
      "cell_type": "code",
      "metadata": {
        "id": "4NL0XtApYDhi"
      },
      "source": [
        "Y_true_train_res = Y_res ==1"
      ],
      "execution_count": null,
      "outputs": []
    },
    {
      "cell_type": "code",
      "metadata": {
        "colab": {
          "base_uri": "https://localhost:8080/"
        },
        "id": "9U3TEjcOmLbx",
        "outputId": "40160f5a-6f3b-4227-b3ca-5c101174704e"
      },
      "source": [
        "from collections import Counter\n",
        "print('Original dataset shape {}'.format(Counter(Y_train)))\n",
        "print('Resampled dataset shape {}'.format(Counter(Y_res)))"
      ],
      "execution_count": null,
      "outputs": [
        {
          "output_type": "stream",
          "text": [
            "Original dataset shape Counter({0: 3524, 1: 157})\n",
            "Resampled dataset shape Counter({0: 3505, 1: 3505})\n"
          ],
          "name": "stdout"
        }
      ]
    },
    {
      "cell_type": "markdown",
      "metadata": {
        "id": "SYDFDcXsxOru"
      },
      "source": [
        "This shows that logistic regression and ada boost is having descent recall score."
      ]
    },
    {
      "cell_type": "code",
      "metadata": {
        "colab": {
          "base_uri": "https://localhost:8080/"
        },
        "id": "ex12Y3chHqXZ",
        "outputId": "b0ed93b7-ba94-4fb2-f5ce-c50ce75277d2"
      },
      "source": [
        "results = []\n",
        "for key in models:\n",
        "  model_name = models[key]\n",
        "  model = model_name\n",
        "  model.fit(X_res, Y_res)\n",
        "  pred = model.predict(X_test)\n",
        "\n",
        "  # pred = model_name.predict(X_test)\n",
        "  print('')\n",
        "  print(key)\n",
        "  print(confusion_matrix(Y_true_test, pred),'recall=', metrics.recall_score(Y_true_test, pred))"
      ],
      "execution_count": null,
      "outputs": [
        {
          "output_type": "stream",
          "text": [
            "\n",
            "dt_clf\n",
            "[[1050  125]\n",
            " [  40   12]] recall= 0.23076923076923078\n",
            "\n",
            "for_clf\n",
            "[[1125   50]\n",
            " [  45    7]] recall= 0.1346153846153846\n",
            "\n",
            "k_clf\n",
            "[[1015  160]\n",
            " [  34   18]] recall= 0.34615384615384615\n",
            "\n",
            "logistic_reg\n",
            "[[892 283]\n",
            " [  8  44]] recall= 0.8461538461538461\n",
            "\n",
            "ada_boost\n",
            "[[954 221]\n",
            " [ 15  37]] recall= 0.7115384615384616\n"
          ],
          "name": "stdout"
        }
      ]
    },
    {
      "cell_type": "code",
      "metadata": {
        "id": "HSIXYAhEWdXL"
      },
      "source": [
        "from sklearn.metrics import precision_recall_curve\n",
        "from sklearn.model_selection import cross_val_predict"
      ],
      "execution_count": null,
      "outputs": []
    },
    {
      "cell_type": "code",
      "metadata": {
        "id": "hhZiGS_vkkSR"
      },
      "source": [
        "ada = AdaBoostClassifier()\n",
        "log_reg = LogisticRegression()"
      ],
      "execution_count": null,
      "outputs": []
    },
    {
      "cell_type": "code",
      "metadata": {
        "colab": {
          "base_uri": "https://localhost:8080/"
        },
        "id": "YD1WNUyVknVd",
        "outputId": "b24ab116-0bbf-4e36-c096-1fa75c1c6af0"
      },
      "source": [
        "ada.fit(X_res, Y_res)"
      ],
      "execution_count": null,
      "outputs": [
        {
          "output_type": "execute_result",
          "data": {
            "text/plain": [
              "AdaBoostClassifier(algorithm='SAMME.R', base_estimator=None, learning_rate=1.0,\n",
              "                   n_estimators=50, random_state=None)"
            ]
          },
          "metadata": {
            "tags": []
          },
          "execution_count": 61
        }
      ]
    },
    {
      "cell_type": "code",
      "metadata": {
        "colab": {
          "base_uri": "https://localhost:8080/"
        },
        "id": "WhL51qEnW-LY",
        "outputId": "6f412c06-942a-46ad-bf81-00088549c1e2"
      },
      "source": [
        "log_reg.fit(X_res, Y_res)"
      ],
      "execution_count": null,
      "outputs": [
        {
          "output_type": "execute_result",
          "data": {
            "text/plain": [
              "LogisticRegression(C=1.0, class_weight=None, dual=False, fit_intercept=True,\n",
              "                   intercept_scaling=1, l1_ratio=None, max_iter=100,\n",
              "                   multi_class='auto', n_jobs=None, penalty='l2',\n",
              "                   random_state=None, solver='lbfgs', tol=0.0001, verbose=0,\n",
              "                   warm_start=False)"
            ]
          },
          "metadata": {
            "tags": []
          },
          "execution_count": 62
        }
      ]
    },
    {
      "cell_type": "markdown",
      "metadata": {
        "id": "hXQnAyBmyxSe"
      },
      "source": [
        "decision function of the model returns the probabilities."
      ]
    },
    {
      "cell_type": "code",
      "metadata": {
        "id": "XmfZNWUBRHPK"
      },
      "source": [
        "y_score = cross_val_predict(log_reg, X_res, Y_true_train_res, cv=3, method='decision_function')"
      ],
      "execution_count": null,
      "outputs": []
    },
    {
      "cell_type": "code",
      "metadata": {
        "colab": {
          "base_uri": "https://localhost:8080/"
        },
        "id": "RJq2eNVeYiTu",
        "outputId": "e36d9f94-678b-4454-a6a5-e549bb749315"
      },
      "source": [
        "y_score.shape"
      ],
      "execution_count": null,
      "outputs": [
        {
          "output_type": "execute_result",
          "data": {
            "text/plain": [
              "(7010,)"
            ]
          },
          "metadata": {
            "tags": []
          },
          "execution_count": 66
        }
      ]
    },
    {
      "cell_type": "markdown",
      "metadata": {
        "id": "T6q34lYlzJf0"
      },
      "source": [
        "Plotting precision and recall against threshold values for logistic regression model. "
      ]
    },
    {
      "cell_type": "code",
      "metadata": {
        "id": "5sqCFmgfZFbY"
      },
      "source": [
        "import matplotlib.pyplot as plt"
      ],
      "execution_count": null,
      "outputs": []
    },
    {
      "cell_type": "code",
      "metadata": {
        "id": "pqmGxlOwYxaA"
      },
      "source": [
        "precisions, recalls, thresholds = precision_recall_curve(Y_true_train_res, y_score)"
      ],
      "execution_count": null,
      "outputs": []
    },
    {
      "cell_type": "code",
      "metadata": {
        "colab": {
          "base_uri": "https://localhost:8080/",
          "height": 265
        },
        "id": "jYBtiTvPZQWH",
        "outputId": "053081c4-f7b4-4e01-8d49-34caf7787504"
      },
      "source": [
        "def plot_precision_recall_vs_threshold(precisions, recalls, thresholds):\n",
        "  plt.plot(thresholds, precisions[:-1], 'b--', label = 'precision')\n",
        "  plt.plot(thresholds, recalls[:-1], 'g-', label = 'recall')\n",
        "  [...]\n",
        "plot_precision_recall_vs_threshold(precisions, recalls, thresholds)\n",
        "plt.show()  \n"
      ],
      "execution_count": null,
      "outputs": [
        {
          "output_type": "display_data",
          "data": {
            "image/png": "[encoded data removed]",
            "text/plain": [
              "<Figure size 432x288 with 1 Axes>"
            ]
          },
          "metadata": {
            "tags": [],
            "needs_background": "light"
          }
        }
      ]
    },
    {
      "cell_type": "markdown",
      "metadata": {
        "id": "FUpgTu1b2WfJ"
      },
      "source": [
        "Plotting precision and recall against threshold values for logistic regression model. "
      ]
    },
    {
      "cell_type": "code",
      "metadata": {
        "colab": {
          "base_uri": "https://localhost:8080/",
          "height": 265
        },
        "id": "jbwphmMWzvmC",
        "outputId": "13b95199-4905-4f4a-d1b9-1f381bf09069"
      },
      "source": [
        "y_score_ada = cross_val_predict(ada, X_res, Y_true_train_res, cv=3, method='decision_function')\n",
        "precisions_ada, recalls_ada, thresholds_ada = precision_recall_curve(Y_true_train_res, y_score_ada)\n",
        "def plot_precision_recall_vs_threshold(precisions_ada, recalls_ada, thresholds_ada):\n",
        "  plt.plot(thresholds_ada, precisions_ada[:-1], 'b--', label = 'precision')\n",
        "  plt.plot(thresholds_ada, recalls_ada[:-1], 'g-', label = 'recall')\n",
        "  [...]\n",
        "plot_precision_recall_vs_threshold(precisions_ada, recalls_ada, thresholds_ada)\n",
        "plt.show()  "
      ],
      "execution_count": null,
      "outputs": [
        {
          "output_type": "display_data",
          "data": {
            "image/png": "[encoded data removed]",
            "text/plain": [
              "<Figure size 432x288 with 1 Axes>"
            ]
          },
          "metadata": {
            "tags": [],
            "needs_background": "light"
          }
        }
      ]
    },
    {
      "cell_type": "code",
      "metadata": {
        "id": "siD7Gga1e0Xe"
      },
      "source": [
        "threshold = 0\n",
        "log_scores = log_reg.decision_function(X_res)\n",
        "log_pred_threshold = log_scores>threshold"
      ],
      "execution_count": null,
      "outputs": []
    },
    {
      "cell_type": "code",
      "metadata": {
        "id": "xXAL2SF5k-6W"
      },
      "source": [
        "threshold_2 = 0\n",
        "ada_scores = ada.decision_function(X_res)\n",
        "ada_pred_threshold = ada_scores>threshold_2"
      ],
      "execution_count": null,
      "outputs": []
    },
    {
      "cell_type": "code",
      "metadata": {
        "colab": {
          "base_uri": "https://localhost:8080/"
        },
        "id": "TecEJef_lKhC",
        "outputId": "b98e0ba6-07c8-495a-93d2-951c32346338"
      },
      "source": [
        "ada_pred_threshold"
      ],
      "execution_count": null,
      "outputs": [
        {
          "output_type": "execute_result",
          "data": {
            "text/plain": [
              "array([False, False, False, ...,  True,  True, False])"
            ]
          },
          "metadata": {
            "tags": []
          },
          "execution_count": 74
        }
      ]
    },
    {
      "cell_type": "code",
      "metadata": {
        "colab": {
          "base_uri": "https://localhost:8080/"
        },
        "id": "Pi8TEcvKfbTN",
        "outputId": "603b575b-a24f-4225-8866-a76365b7e2e6"
      },
      "source": [
        "log_pred_threshold"
      ],
      "execution_count": null,
      "outputs": [
        {
          "output_type": "execute_result",
          "data": {
            "text/plain": [
              "array([False, False, False, ...,  True,  True, False])"
            ]
          },
          "metadata": {
            "tags": []
          },
          "execution_count": 79
        }
      ]
    },
    {
      "cell_type": "markdown",
      "metadata": {
        "id": "sVVwa1Sg1VOm"
      },
      "source": [
        "calculating precision and recall score on logistic regression model with threshold being 0 that is selected from the precision - recall curve against the different threshold values. "
      ]
    },
    {
      "cell_type": "code",
      "metadata": {
        "colab": {
          "base_uri": "https://localhost:8080/"
        },
        "id": "k4NfwPiFhMLY",
        "outputId": "cd43149f-c434-441a-b2a3-67ad9bee3c68"
      },
      "source": [
        "metrics.recall_score(Y_true_train_res, log_pred_threshold)"
      ],
      "execution_count": null,
      "outputs": [
        {
          "output_type": "execute_result",
          "data": {
            "text/plain": [
              "0.818830242510699"
            ]
          },
          "metadata": {
            "tags": []
          },
          "execution_count": 80
        }
      ]
    },
    {
      "cell_type": "code",
      "metadata": {
        "id": "bwjb_sM3p5et",
        "colab": {
          "base_uri": "https://localhost:8080/"
        },
        "outputId": "75609d9c-85f8-49f4-b818-7d60cf41c0ae"
      },
      "source": [
        "metrics.precision_score(Y_true_train_res, log_pred_threshold)"
      ],
      "execution_count": null,
      "outputs": [
        {
          "output_type": "execute_result",
          "data": {
            "text/plain": [
              "0.7566569997363565"
            ]
          },
          "metadata": {
            "tags": []
          },
          "execution_count": 81
        }
      ]
    },
    {
      "cell_type": "code",
      "metadata": {
        "colab": {
          "base_uri": "https://localhost:8080/"
        },
        "id": "YZHvlgRNhcYT",
        "outputId": "3d836cba-a123-4ee7-ecb9-3ec262d7cc7c"
      },
      "source": [
        "metrics.confusion_matrix(Y_true_train_res, log_pred_threshold)"
      ],
      "execution_count": null,
      "outputs": [
        {
          "output_type": "execute_result",
          "data": {
            "text/plain": [
              "array([[2582,  923],\n",
              "       [ 635, 2870]])"
            ]
          },
          "metadata": {
            "tags": []
          },
          "execution_count": 82
        }
      ]
    },
    {
      "cell_type": "markdown",
      "metadata": {
        "id": "bMyPl8N311B3"
      },
      "source": [
        "calculating precision and recall score on ada boost model model with threshold being 0 that is selected from the precision - recall curve against the different threshold values."
      ]
    },
    {
      "cell_type": "code",
      "metadata": {
        "colab": {
          "base_uri": "https://localhost:8080/"
        },
        "id": "sMZhXo4SlPVn",
        "outputId": "c660ff2e-36d0-4280-c8d1-53f7f9fef712"
      },
      "source": [
        "metrics.recall_score(Y_true_train_res, ada_pred_threshold)"
      ],
      "execution_count": null,
      "outputs": [
        {
          "output_type": "execute_result",
          "data": {
            "text/plain": [
              "0.9215406562054208"
            ]
          },
          "metadata": {
            "tags": []
          },
          "execution_count": 83
        }
      ]
    },
    {
      "cell_type": "code",
      "metadata": {
        "colab": {
          "base_uri": "https://localhost:8080/"
        },
        "id": "G3r1sgaOlevi",
        "outputId": "61fe966e-9e66-44cc-cb27-11196e7e2f81"
      },
      "source": [
        "metrics.precision_score(Y_true_train_res, ada_pred_threshold)"
      ],
      "execution_count": null,
      "outputs": [
        {
          "output_type": "execute_result",
          "data": {
            "text/plain": [
              "0.82000507743082"
            ]
          },
          "metadata": {
            "tags": []
          },
          "execution_count": 84
        }
      ]
    },
    {
      "cell_type": "code",
      "metadata": {
        "colab": {
          "base_uri": "https://localhost:8080/"
        },
        "id": "8HdLgS-jmE_Y",
        "outputId": "b9a090cf-d323-4401-8f30-85e1b518a971"
      },
      "source": [
        "metrics.confusion_matrix(Y_true_train_res, ada_pred_threshold)"
      ],
      "execution_count": null,
      "outputs": [
        {
          "output_type": "execute_result",
          "data": {
            "text/plain": [
              "array([[2796,  709],\n",
              "       [ 275, 3230]])"
            ]
          },
          "metadata": {
            "tags": []
          },
          "execution_count": 85
        }
      ]
    },
    {
      "cell_type": "markdown",
      "metadata": {
        "id": "BsDmPSef2vXa"
      },
      "source": [
        "From above testing, scores of ada boost classifier model is very promising. It is giving descent recall and precision score."
      ]
    },
    {
      "cell_type": "markdown",
      "metadata": {
        "id": "0QKBnSmf3b-x"
      },
      "source": [
        "Now let's evaluate our models on test data too."
      ]
    },
    {
      "cell_type": "code",
      "metadata": {
        "id": "JlSN693-mV06"
      },
      "source": [
        "threshold_2 = 0\n",
        "ada_scores_test = ada.decision_function(X_test)\n",
        "ada_pred_test_threshold = ada_scores_test>threshold"
      ],
      "execution_count": null,
      "outputs": []
    },
    {
      "cell_type": "code",
      "metadata": {
        "colab": {
          "base_uri": "https://localhost:8080/"
        },
        "id": "XiiJpp2WmtFJ",
        "outputId": "749b6da3-d839-47a8-926e-076ce7dee135"
      },
      "source": [
        "metrics.confusion_matrix(Y_true_test, ada_pred_test_threshold)"
      ],
      "execution_count": null,
      "outputs": [
        {
          "output_type": "execute_result",
          "data": {
            "text/plain": [
              "array([[954, 221],\n",
              "       [ 15,  37]])"
            ]
          },
          "metadata": {
            "tags": []
          },
          "execution_count": 87
        }
      ]
    },
    {
      "cell_type": "code",
      "metadata": {
        "colab": {
          "base_uri": "https://localhost:8080/"
        },
        "id": "zQrceGDWm1Of",
        "outputId": "7f29c2ae-b8a1-4e26-d0a6-79646dee3425"
      },
      "source": [
        "metrics.recall_score(Y_true_test, ada_pred_test_threshold)"
      ],
      "execution_count": null,
      "outputs": [
        {
          "output_type": "execute_result",
          "data": {
            "text/plain": [
              "0.7115384615384616"
            ]
          },
          "metadata": {
            "tags": []
          },
          "execution_count": 88
        }
      ]
    },
    {
      "cell_type": "code",
      "metadata": {
        "colab": {
          "base_uri": "https://localhost:8080/"
        },
        "id": "8yAMq6Mxnq1i",
        "outputId": "1c7fb800-37c2-4674-983b-bf2198c7b29b"
      },
      "source": [
        "metrics.precision_score(Y_true_test, ada_pred_test_threshold)"
      ],
      "execution_count": null,
      "outputs": [
        {
          "output_type": "execute_result",
          "data": {
            "text/plain": [
              "0.1434108527131783"
            ]
          },
          "metadata": {
            "tags": []
          },
          "execution_count": 89
        }
      ]
    },
    {
      "cell_type": "code",
      "metadata": {
        "id": "vomeMDujn0Eg"
      },
      "source": [
        "threshold_2 = 0\n",
        "log_scores_test = log_reg.decision_function(X_test)\n",
        "log_pred_test_threshold = log_scores_test>threshold_2"
      ],
      "execution_count": null,
      "outputs": []
    },
    {
      "cell_type": "code",
      "metadata": {
        "colab": {
          "base_uri": "https://localhost:8080/"
        },
        "id": "BFARpKqToOnG",
        "outputId": "1244314c-d4fa-4be2-98cd-47c36adfe35b"
      },
      "source": [
        "metrics.recall_score(Y_true_test, log_pred_test_threshold)"
      ],
      "execution_count": null,
      "outputs": [
        {
          "output_type": "execute_result",
          "data": {
            "text/plain": [
              "0.8461538461538461"
            ]
          },
          "metadata": {
            "tags": []
          },
          "execution_count": 91
        }
      ]
    },
    {
      "cell_type": "code",
      "metadata": {
        "colab": {
          "base_uri": "https://localhost:8080/"
        },
        "id": "naaI1OGjoW9g",
        "outputId": "3b9d8c5a-59ac-4f12-b49c-80ea7371d193"
      },
      "source": [
        "metrics.precision_score(Y_true_test, log_pred_test_threshold)"
      ],
      "execution_count": null,
      "outputs": [
        {
          "output_type": "execute_result",
          "data": {
            "text/plain": [
              "0.1345565749235474"
            ]
          },
          "metadata": {
            "tags": []
          },
          "execution_count": 92
        }
      ]
    },
    {
      "cell_type": "markdown",
      "metadata": {
        "id": "xO4ZyLE030T0"
      },
      "source": [
        "Conclusions:\n",
        "It seems that our ada boost clasifier was over fitting over our training data, whereas logistics regression model perfomed well comparatively.\n",
        "We can tune our model to achieve better recall and precision score."
      ]
    },
    {
      "cell_type": "markdown",
      "metadata": {
        "id": "5Im6EHbM4-Mh"
      },
      "source": [
        "# Any suggestions and corrections are warmly welcomed.\n",
        "# Thankyou!"
      ]
    }
  ]
}